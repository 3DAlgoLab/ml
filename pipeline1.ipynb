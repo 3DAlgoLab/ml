{
 "cells": [
  {
   "cell_type": "code",
   "execution_count": 41,
   "metadata": {},
   "outputs": [],
   "source": [
    "import torch\n",
    "import torch.nn as nn\n",
    "import torch.optim as optim\n",
    "from torchvision import datasets, transforms\n",
    "from torch.optim.lr_scheduler import StepLR\n",
    "import torch.nn.functional as F\n",
    "\n",
    "import matplotlib.pyplot as plt \n",
    "from torch.utils.data import Dataset, DataLoader"
   ]
  },
  {
   "cell_type": "code",
   "execution_count": 42,
   "metadata": {},
   "outputs": [],
   "source": [
    "from pathlib import Path \n",
    "from typing import Tuple\n",
    "from torchvision.io import read_image\n",
    "\n",
    "root_folder = \"./data/MelanomaDetectionLabeled/\"\n",
    "\n",
    "# setup transform with Imagenet normalization parameters\n",
    "transform_test = transforms.Compose([\n",
    "    transforms.Normalize((0.485, 0.456, 0.406), (0.229, 0.224, 0.225))\n",
    "])\n",
    "\n",
    "transform_train = transforms.Compose([\n",
    "    transforms.Normalize((0.485, 0.456, 0.406), (0.229, 0.224, 0.225)), \n",
    "    transforms.RandomVerticalFlip(p=0.5),\n",
    "    transforms.RandomHorizontalFlip(p=0.5),\n",
    "    transforms.RandomRotation(30),\n",
    "])"
   ]
  },
  {
   "cell_type": "code",
   "execution_count": 43,
   "metadata": {},
   "outputs": [
    {
     "data": {
      "text/plain": [
       "(torch.Size([3, 32, 32]), torch.float32)"
      ]
     },
     "execution_count": 43,
     "metadata": {},
     "output_type": "execute_result"
    }
   ],
   "source": [
    "# Test image load \n",
    "test_img_path = root_folder + \"labeled/0_0.jpg\"\n",
    "im = read_image(test_img_path).type(torch.float32)/255.0\n",
    "im.shape, im.dtype"
   ]
  },
  {
   "cell_type": "code",
   "execution_count": 44,
   "metadata": {},
   "outputs": [
    {
     "name": "stdout",
     "output_type": "stream",
     "text": [
      "Train dataset size:  200\n",
      "Test dataset size:  600\n"
     ]
    }
   ],
   "source": [
    "\n",
    "class MelanomaDataset(Dataset):\n",
    "    def __init__(self, folder, transform=None):\n",
    "        super().__init__()\n",
    "        self.folder = Path(folder).resolve()\n",
    "        self.transform = transform\n",
    "        self.img_path_list = list(self.folder.glob('*.jpg'))\n",
    "        \n",
    "        \n",
    "    def __len__(self):\n",
    "        return len(self.img_path_list)\n",
    "    \n",
    "    def __getitem__(self, index) -> Tuple:\n",
    "        img_path = self.img_path_list[index]\n",
    "        img = read_image(str(img_path)).type(torch.float32)/255.0        \n",
    "        if self.transform:\n",
    "            img = self.transform(img)\n",
    "        label = img_path.stem.split('_')[1]\n",
    "        return img, int(label) \n",
    "    \n",
    "    \n",
    "# test \n",
    "\n",
    "ds_train = MelanomaDataset(root_folder + \"labeled\", transform=transform_train)\n",
    "ds_test = MelanomaDataset(root_folder + \"test\", transform=transform_test)\n",
    "\n",
    "print(\"Train dataset size: \", len(ds_train))\n",
    "print(\"Test dataset size: \", len(ds_test))"
   ]
  },
  {
   "cell_type": "code",
   "execution_count": 45,
   "metadata": {},
   "outputs": [
    {
     "name": "stdout",
     "output_type": "stream",
     "text": [
      "Train Loader Check:\n",
      "Shape of X [N, C, H, W]: torch.Size([64, 3, 32, 32]), X.dtype: torch.float32\n",
      "Shape of y: torch.Size([64]), y.dtype: torch.int64\n",
      "\n",
      "Test Loader Check:\n",
      "Shape of X [N, C, H, W]: torch.Size([64, 3, 32, 32]), X.dtype: torch.float32\n",
      "Shape of y: torch.Size([64]), y.dtype: torch.int64\n"
     ]
    }
   ],
   "source": [
    "# Data Loader for Train & Test \n",
    "dl_train = DataLoader(ds_train, batch_size=64, shuffle=True)\n",
    "dl_test = DataLoader(ds_train, batch_size=64, shuffle=False)\n",
    "\n",
    "print(\"Train Loader Check:\")\n",
    "for X, y in dl_train:\n",
    "    print(f\"Shape of X [N, C, H, W]: {X.shape}, X.dtype: {X.dtype}\")\n",
    "    print(f\"Shape of y: {y.shape}, y.dtype: {y.dtype}\")\n",
    "    break\n",
    "\n",
    "print(\"\\nTest Loader Check:\")\n",
    "for X, y in dl_test:\n",
    "    print(f\"Shape of X [N, C, H, W]: {X.shape}, X.dtype: {X.dtype}\")\n",
    "    print(f\"Shape of y: {y.shape}, y.dtype: {y.dtype}\")\n",
    "    break"
   ]
  }
 ],
 "metadata": {
  "kernelspec": {
   "display_name": "torch",
   "language": "python",
   "name": "python3"
  },
  "language_info": {
   "codemirror_mode": {
    "name": "ipython",
    "version": 3
   },
   "file_extension": ".py",
   "mimetype": "text/x-python",
   "name": "python",
   "nbconvert_exporter": "python",
   "pygments_lexer": "ipython3",
   "version": "3.10.8 | packaged by conda-forge | (main, Nov 24 2022, 14:07:00) [MSC v.1916 64 bit (AMD64)]"
  },
  "orig_nbformat": 4,
  "vscode": {
   "interpreter": {
    "hash": "4f375eb2ccae06d45dc41500e723b1f875d7dee8de5a4d669079620297fbf3f1"
   }
  }
 },
 "nbformat": 4,
 "nbformat_minor": 2
}
